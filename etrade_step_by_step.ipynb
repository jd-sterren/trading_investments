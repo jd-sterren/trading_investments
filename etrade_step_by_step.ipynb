{
 "cells": [
  {
   "cell_type": "code",
   "execution_count": 1,
   "id": "c146cc02",
   "metadata": {},
   "outputs": [],
   "source": [
    "import os\n",
    "from inc.credential_manager import inject_decrypted_env\n",
    "import inc.functions as fn\n",
    "\n",
    "# Decrypt and inject environment variables\n",
    "inject_decrypted_env(environment=\"prod\", required_vars=[\"PROD_API\", \"PROD_SEC\"])\n",
    "\n",
    "# OAuth Authentication\n",
    "session, request_token, request_token_secret = fn.oauth()\n"
   ]
  },
  {
   "cell_type": "code",
   "execution_count": 4,
   "id": "5dadc8cf",
   "metadata": {},
   "outputs": [
    {
     "name": "stdout",
     "output_type": "stream",
     "text": [
      "{'dt_lastTrade': Timestamp('2025-04-25 13:00:08'), 'symbol': 'GOOG', 'Close': 164.79, 'bid': 164.79, 'bid size': 26400, 'ask': 164.82, 'ask size': 18500, 'bid_ask_spread': 0.030000000000001137, 'Volume': 22407380, 'market_status': \"We're in business hours.\"}\n",
      "We're in business hours.\n"
     ]
    }
   ],
   "source": [
    "# Get Stock Data\n",
    "stock_info = fn.fetch_stock_info(session, [\"AAPL\", \"GOOG\"])\n",
    "\n",
    "print(stock_info[\"GOOG\"][\"formatted_data\"])\n",
    "print(stock_info[\"GOOG\"][\"msg\"])"
   ]
  }
 ],
 "metadata": {
  "kernelspec": {
   "display_name": "gideon",
   "language": "python",
   "name": "python3"
  },
  "language_info": {
   "codemirror_mode": {
    "name": "ipython",
    "version": 3
   },
   "file_extension": ".py",
   "mimetype": "text/x-python",
   "name": "python",
   "nbconvert_exporter": "python",
   "pygments_lexer": "ipython3",
   "version": "3.10.16"
  }
 },
 "nbformat": 4,
 "nbformat_minor": 5
}
